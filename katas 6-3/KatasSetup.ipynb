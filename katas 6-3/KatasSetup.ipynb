{
 "cells": [
  {
   "cell_type": "markdown",
   "metadata": {},
   "source": [
    "# KATA - Saturday"
   ]
  },
  {
   "cell_type": "markdown",
   "metadata": {},
   "source": [
    "### Kata 1"
   ]
  },
  {
   "cell_type": "markdown",
   "metadata": {},
   "source": [
    "https://www.codewars.com/kata/514a024011ea4fb54200004b"
   ]
  },
  {
   "cell_type": "code",
   "execution_count": 3,
   "metadata": {},
   "outputs": [
    {
     "name": "stdout",
     "output_type": "stream",
     "text": [
      "Collecting tldextract\n",
      "  Downloading tldextract-3.1.0-py2.py3-none-any.whl (87 kB)\n",
      "\u001b[K     |████████████████████████████████| 87 kB 2.5 MB/s eta 0:00:011\n",
      "\u001b[?25hRequirement already satisfied: requests>=2.1.0 in /home/jie/miniconda3/envs/ironhack_env/lib/python3.8/site-packages (from tldextract) (2.25.1)\n",
      "Requirement already satisfied: idna in /home/jie/miniconda3/envs/ironhack_env/lib/python3.8/site-packages (from tldextract) (2.10)\n",
      "Collecting filelock>=3.0.8\n",
      "  Downloading filelock-3.0.12-py3-none-any.whl (7.6 kB)\n",
      "Requirement already satisfied: urllib3<1.27,>=1.21.1 in /home/jie/miniconda3/envs/ironhack_env/lib/python3.8/site-packages (from requests>=2.1.0->tldextract) (1.26.2)\n",
      "Requirement already satisfied: certifi>=2017.4.17 in /home/jie/miniconda3/envs/ironhack_env/lib/python3.8/site-packages (from requests>=2.1.0->tldextract) (2020.12.5)\n",
      "Requirement already satisfied: chardet<5,>=3.0.2 in /home/jie/miniconda3/envs/ironhack_env/lib/python3.8/site-packages (from requests>=2.1.0->tldextract) (4.0.0)\n",
      "Collecting requests-file>=1.4\n",
      "  Downloading requests_file-1.5.1-py2.py3-none-any.whl (3.7 kB)\n",
      "Requirement already satisfied: six in /home/jie/miniconda3/envs/ironhack_env/lib/python3.8/site-packages (from requests-file>=1.4->tldextract) (1.15.0)\n",
      "Installing collected packages: requests-file, filelock, tldextract\n",
      "Successfully installed filelock-3.0.12 requests-file-1.5.1 tldextract-3.1.0\n",
      "Note: you may need to restart the kernel to use updated packages.\n"
     ]
    }
   ],
   "source": [
    "pip install tldextract "
   ]
  },
  {
   "cell_type": "code",
   "execution_count": 23,
   "metadata": {},
   "outputs": [],
   "source": [
    "import re\n",
    "import tldextract\n",
    "import urllib\n",
    "\n",
    "# your code here\n",
    "\n",
    "def domain_name(url):\n",
    "    ext = tldextract.extract(url)\n",
    "    return ext.domain\n",
    "    pass"
   ]
  },
  {
   "cell_type": "code",
   "execution_count": 4,
   "metadata": {},
   "outputs": [
    {
     "data": {
      "text/plain": [
       "'youtube'"
      ]
     },
     "execution_count": 4,
     "metadata": {},
     "output_type": "execute_result"
    }
   ],
   "source": [
    "domain_name(\"https://youtube.com\") # Should return \"youtube\""
   ]
  },
  {
   "cell_type": "code",
   "execution_count": 60,
   "metadata": {},
   "outputs": [
    {
     "name": "stdout",
     "output_type": "stream",
     "text": [
      "xakep\n"
     ]
    }
   ],
   "source": [
    "domain_name(\"www.xakep.ru\")"
   ]
  },
  {
   "cell_type": "code",
   "execution_count": 33,
   "metadata": {},
   "outputs": [],
   "source": [
    "def domain_name(url):\n",
    "    netloc = urllib.parse.urlparse(url).netloc\n",
    "    return re.findall(\".*(?=\\.)\", netloc)[0]\n",
    "    pass"
   ]
  },
  {
   "cell_type": "code",
   "execution_count": 57,
   "metadata": {},
   "outputs": [
    {
     "name": "stdout",
     "output_type": "stream",
     "text": [
      "google.co\n"
     ]
    }
   ],
   "source": [
    "domain_name(\"http://google.co.jp\") # Should return \"youtube\""
   ]
  },
  {
   "cell_type": "code",
   "execution_count": 38,
   "metadata": {},
   "outputs": [
    {
     "data": {
      "text/plain": [
       "ParseResult(scheme='https', netloc='youtube.com', path='', params='', query='', fragment='')"
      ]
     },
     "execution_count": 38,
     "metadata": {},
     "output_type": "execute_result"
    }
   ],
   "source": [
    "url = \"https://youtube.com\"\n",
    "netloc = urllib.parse.urlparse(url)\n",
    "netloc"
   ]
  },
  {
   "cell_type": "code",
   "execution_count": 59,
   "metadata": {},
   "outputs": [],
   "source": [
    "def domain_name(url):\n",
    "    pre_dot = re.findall(\".*(?=\\.)\", url)[0]\n",
    "    if pre_dot.startswith('https://'):\n",
    "        spl_word = 'https://'\n",
    "        print(pre_dot.partition(spl_word)[2])\n",
    "    elif pre_dot.startswith('http://'):\n",
    "        spl_word = 'http://'\n",
    "        print(pre_dot.partition(spl_word)[2])\n",
    "    elif pre_dot.startswith('www.'):\n",
    "        spl_word = 'www.'\n",
    "        print(pre_dot.partition(spl_word)[2])\n",
    "    else:\n",
    "        pass"
   ]
  },
  {
   "cell_type": "code",
   "execution_count": 52,
   "metadata": {},
   "outputs": [
    {
     "name": "stdout",
     "output_type": "stream",
     "text": [
      "youtube\n"
     ]
    }
   ],
   "source": [
    "url = \"https://youtube.com\"\n",
    "pre_dot = re.findall(\".*(?=\\.)\", url)[0]\n",
    "if pre_dot.startswith('https://'):\n",
    "    spl_word = 'https://'\n",
    "    print(pre_dot.partition(spl_word)[2])\n",
    "elif pre_dot.startswith('http://'):\n",
    "    spl_word = 'http://'\n",
    "    print(pre_dot.partition(spl_word)[2])\n",
    "elif pre_dot.startswith('www'):\n",
    "    spl_word = 'www'\n",
    "    print(pre_dot.partition(spl_word)[2])\n",
    "else:\n",
    "    pass"
   ]
  },
  {
   "cell_type": "code",
   "execution_count": null,
   "metadata": {},
   "outputs": [],
   "source": []
  },
  {
   "cell_type": "markdown",
   "metadata": {},
   "source": [
    "### Kata 2"
   ]
  },
  {
   "cell_type": "markdown",
   "metadata": {},
   "source": [
    "https://www.codewars.com/kata/570523c146edc287a50014b1"
   ]
  },
  {
   "cell_type": "code",
   "execution_count": 1,
   "metadata": {},
   "outputs": [],
   "source": [
    "# your code here\n",
    "\n",
    "def number_joy(number):\n",
    "    sum = 0\n",
    "    for n in str(number):\n",
    "        sum += int(n)\n",
    "    \n",
    "    rever_sum = int(\"\".join(reversed(list(str(digit_sum)))))\n",
    "    \n",
    "    return sum * rever_sum == number"
   ]
  },
  {
   "cell_type": "code",
   "execution_count": null,
   "metadata": {},
   "outputs": [],
   "source": [
    "number_joy(1729) # Should return True"
   ]
  }
 ],
 "metadata": {
  "kernelspec": {
   "display_name": "Python [conda env:ironhack_env]",
   "language": "python",
   "name": "conda-env-ironhack_env-py"
  },
  "language_info": {
   "codemirror_mode": {
    "name": "ipython",
    "version": 3
   },
   "file_extension": ".py",
   "mimetype": "text/x-python",
   "name": "python",
   "nbconvert_exporter": "python",
   "pygments_lexer": "ipython3",
   "version": "3.8.5"
  }
 },
 "nbformat": 4,
 "nbformat_minor": 4
}
