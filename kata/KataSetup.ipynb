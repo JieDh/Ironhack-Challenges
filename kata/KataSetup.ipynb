{
 "cells": [
  {
   "cell_type": "markdown",
   "metadata": {},
   "source": [
    "# KATA - Saturday"
   ]
  },
  {
   "cell_type": "code",
   "execution_count": 1,
   "metadata": {},
   "outputs": [],
   "source": [
    "player1 = [[1, 1], [2, 1], [2, 2], [5, 5]]\n",
    "player2 = [[1, 2], [1, 2], [3, 3]]"
   ]
  },
  {
   "cell_type": "code",
   "execution_count": 87,
   "metadata": {},
   "outputs": [],
   "source": [
    "def battle(player1, player2):\n",
    "    len_battle = len(player1) if len(player1) < len(player2) else len(player2)\n",
    "    players_dict = {'player1': [], 'player2': []}\n",
    "    for i in range(len_battle):\n",
    "        if player1[i][0] < player2[i][1]:\n",
    "            players_dict[\"player2\"].append(player2[i])\n",
    "        if player2[i][0] < player1[i][1]:\n",
    "            players_dict[\"player1\"].append(player1[i])\n",
    "\n",
    "    if len(player1) > len_battle:\n",
    "        players_dict[\"player1\"] += player1[len_battle:]\n",
    "    if len(player2) > len_battle:\n",
    "        players_dict[\"player2\"] += player2[len_battle:]\n",
    "        \n",
    "    return players_dict\n",
    "            "
   ]
  },
  {
   "cell_type": "code",
   "execution_count": 78,
   "metadata": {},
   "outputs": [
    {
     "ename": "SyntaxError",
     "evalue": "cannot assign to function call (<ipython-input-78-fe15829c55a7>, line 4)",
     "output_type": "error",
     "traceback": [
      "\u001b[0;36m  File \u001b[0;32m\"<ipython-input-78-fe15829c55a7>\"\u001b[0;36m, line \u001b[0;32m4\u001b[0m\n\u001b[0;31m    for (p1, t1) (p2, t2) in zip(player1, player2, fillvalue=None):\u001b[0m\n\u001b[0m        ^\u001b[0m\n\u001b[0;31mSyntaxError\u001b[0m\u001b[0;31m:\u001b[0m cannot assign to function call\n"
     ]
    }
   ],
   "source": [
    "def battle(player1, player2):\n",
    "    # your code here\n",
    "    players_dict = {'player1': [], 'player2': []}\n",
    "    for (p1, t1) (p2, t2) in zip(player1, player2, fillvalue=None):\n",
    "        if t1 > t2:\n",
    "            players_dict['player1'].append(p1)\n",
    "        elif t2 > pt1:\n",
    "            players_dict['player2'].append(p2)\n",
    "    return players_dict\n",
    " "
   ]
  },
  {
   "cell_type": "code",
   "execution_count": 16,
   "metadata": {},
   "outputs": [
    {
     "data": {
      "text/plain": [
       "4"
      ]
     },
     "execution_count": 16,
     "metadata": {},
     "output_type": "execute_result"
    }
   ],
   "source": [
    "len_battle = len(player1) if len(player1) > len(player2) else len(player2)\n",
    "len_battle"
   ]
  },
  {
   "cell_type": "code",
   "execution_count": 88,
   "metadata": {},
   "outputs": [
    {
     "data": {
      "text/plain": [
       "{'player1': [[5, 5]], 'player2': [[1, 2], [3, 3]]}"
      ]
     },
     "execution_count": 88,
     "metadata": {},
     "output_type": "execute_result"
    }
   ],
   "source": [
    "battle(player1, player2) # should return -> {'player1': [[5, 5]], 'player2': [[1, 2], [3, 3]]}"
   ]
  }
 ],
 "metadata": {
  "kernelspec": {
   "display_name": "Python [conda env:ironhack_env]",
   "language": "python",
   "name": "conda-env-ironhack_env-py"
  },
  "language_info": {
   "codemirror_mode": {
    "name": "ipython",
    "version": 3
   },
   "file_extension": ".py",
   "mimetype": "text/x-python",
   "name": "python",
   "nbconvert_exporter": "python",
   "pygments_lexer": "ipython3",
   "version": "3.8.5"
  }
 },
 "nbformat": 4,
 "nbformat_minor": 4
}
