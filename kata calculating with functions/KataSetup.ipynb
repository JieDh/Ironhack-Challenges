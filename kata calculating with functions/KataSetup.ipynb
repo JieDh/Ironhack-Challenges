{
 "cells": [
  {
   "cell_type": "markdown",
   "metadata": {},
   "source": [
    "# KATA - Monday"
   ]
  },
  {
   "cell_type": "markdown",
   "metadata": {},
   "source": [
    "### Function Composition"
   ]
  },
  {
   "cell_type": "markdown",
   "metadata": {},
   "source": [
    "https://mathieularose.com/function-composition-in-python/#:~:text=Composing%20two%20functions,f(g(x))%20."
   ]
  },
  {
   "cell_type": "markdown",
   "metadata": {},
   "source": [
    "https://www.codewars.com/kata/525f3eda17c7cd9f9e000b39/train/python"
   ]
  },
  {
   "cell_type": "code",
   "execution_count": 37,
   "metadata": {},
   "outputs": [],
   "source": [
    "def zero(sign=None): #your code here\n",
    "    if not sign:\n",
    "        return 0\n",
    "    else:\n",
    "        return sign(0)\n",
    "def one(sign=None): #your code here\n",
    "    if not sign:\n",
    "        return 1\n",
    "    else:\n",
    "        return sign(1)\n",
    "def two(sign=None): #your code here\n",
    "    if not sign:\n",
    "        return 2\n",
    "    else:\n",
    "        return sign(2)\n",
    "def three(sign=None): #your code here\n",
    "    if not sign:\n",
    "        return 3\n",
    "    else:\n",
    "        return sign(3)\n",
    "def four(sign=None): #your code here\n",
    "    if not sign:\n",
    "        return 4\n",
    "    else:\n",
    "        return sign(4)\n",
    "def five(sign=None): #your code here\n",
    "    if not sign:\n",
    "        return 5\n",
    "    else:\n",
    "        return sign(5)\n",
    "def six(sign=None): #your code here\n",
    "    if not sign:\n",
    "        return 6\n",
    "    else:\n",
    "        return sign(6)\n",
    "def seven(sign=None): #your code here\n",
    "    if not sign:\n",
    "        return 7\n",
    "    else:\n",
    "        return sign(7)\n",
    "def eight(sign=None): #your code here\n",
    "    if not sign:\n",
    "        return 8\n",
    "    else:\n",
    "        return sign(8)\n",
    "def nine(sign=None): #your code here\n",
    "    if not sign:\n",
    "        return 9\n",
    "    else:\n",
    "        return sign(9)\n",
    "\n",
    "def plus(n2): #your code here\n",
    "    return lambda n1: n1+n2\n",
    "def minus(n2): #your code here\n",
    "    return lambda n1: n1-n2\n",
    "def times(n2): #your code here\n",
    "    return lambda n1: n1*n2\n",
    "def divided_by(n2): #your code here\n",
    "    return lambda n1: n1/n2"
   ]
  },
  {
   "cell_type": "code",
   "execution_count": 38,
   "metadata": {},
   "outputs": [
    {
     "data": {
      "text/plain": [
       "15"
      ]
     },
     "execution_count": 38,
     "metadata": {},
     "output_type": "execute_result"
    }
   ],
   "source": [
    "eight(plus(seven())) # -> 15"
   ]
  },
  {
   "cell_type": "code",
   "execution_count": 35,
   "metadata": {},
   "outputs": [],
   "source": [
    "def seven(sign=None): #your code here\n",
    "    if not sign:\n",
    "        return 7\n",
    "    else:\n",
    "        return sign(7)\n",
    "def eight(sign=None): #your code here\n",
    "    if not sign:\n",
    "        return 8\n",
    "    else:\n",
    "        return sign(8)\n",
    "def plus(n2): #your code here\n",
    "    return lambda n1: n1+n2"
   ]
  },
  {
   "cell_type": "code",
   "execution_count": null,
   "metadata": {},
   "outputs": [],
   "source": [
    "def eight(sign): #your code here\n",
    "    return 8(sign)"
   ]
  }
 ],
 "metadata": {
  "kernelspec": {
   "display_name": "Python [conda env:ironhack_env]",
   "language": "python",
   "name": "conda-env-ironhack_env-py"
  },
  "language_info": {
   "codemirror_mode": {
    "name": "ipython",
    "version": 3
   },
   "file_extension": ".py",
   "mimetype": "text/x-python",
   "name": "python",
   "nbconvert_exporter": "python",
   "pygments_lexer": "ipython3",
   "version": "3.8.5"
  }
 },
 "nbformat": 4,
 "nbformat_minor": 4
}
